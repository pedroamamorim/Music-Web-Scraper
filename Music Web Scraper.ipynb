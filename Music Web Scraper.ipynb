{
 "cells": [
  {
   "cell_type": "code",
   "execution_count": 1,
   "metadata": {},
   "outputs": [],
   "source": [
    "from urllib.request import urlopen\n",
    "from bs4 import BeautifulSoup\n",
    "import pandas as pd"
   ]
  },
  {
   "cell_type": "code",
   "execution_count": 2,
   "metadata": {},
   "outputs": [],
   "source": [
    "#url = 'https://www.letras.mus.br'\n",
    "musicarray=[]"
   ]
  },
  {
   "cell_type": "code",
   "execution_count": 3,
   "metadata": {},
   "outputs": [],
   "source": [
    "def get_links(genre=''):\n",
    "    '''\n",
    "    Captura todos os links de um gênero a partir \n",
    "    da página https://www.letras.mus.br/{banda}.\n",
    "    args\n",
    "    ----\n",
    "        * genre:gênero que terá os links capturados.\n",
    "    '''\n",
    "    #print('Obtendo links/músicas')\n",
    "    address = 'https://www.letras.mus.br/mais-acessadas/'+genre+'/'\n",
    "    ctrl_page = set()\n",
    "    html = urlopen(address)\n",
    "    bs = BeautifulSoup(html, 'html.parser')\n",
    "    for link in bs.find('ol', {'class': 'top-list_mus'}).find_all('a'):\n",
    "        if 'href' in link.attrs:\n",
    "            if link.attrs['href'] not in ctrl_page:\n",
    "                ctrl_page.add(link.attrs['href'])\n",
    "                get_music(link.attrs['href'])\n",
    "\n",
    "\n",
    "def get_music(new_page):\n",
    "    '''\n",
    "    Captura todas as músicas de um gênero a partir \n",
    "    da página www.letras.com.br/[banda/nome_da_música].\n",
    "    args\n",
    "    ----\n",
    "        * new_page: recebe os links capturados pela função get_links().\n",
    "    '''\n",
    "    global musicarray\n",
    "    \n",
    "    temp_address = 'https://www.letras.mus.br/'+new_page\n",
    "    html = urlopen(temp_address)\n",
    "    bs = BeautifulSoup(html, 'html.parser')\n",
    "    musictemp=''\n",
    "    for verse in bs.find('div', {'class': 'cnt-letra p402_premium'}).find_all('p'):\n",
    "        musictemp += ' \\n '.join(verse.stripped_strings)\n",
    "        musictemp += ' \\n \\n '\n",
    "    musicarray.append(musictemp)\n"
   ]
  },
  {
   "cell_type": "code",
   "execution_count": 4,
   "metadata": {},
   "outputs": [],
   "source": [
    "get_links('bossa-nova')\n",
    "#aprox 20 min rodando"
   ]
  },
  {
   "cell_type": "code",
   "execution_count": 5,
   "metadata": {},
   "outputs": [],
   "source": [
    "musicDF=pd.DataFrame(musicarray)\n",
    "musicDF.to_csv('bossanova.csv', index = None, header=True)"
   ]
  },
  {
   "cell_type": "code",
   "execution_count": null,
   "metadata": {},
   "outputs": [],
   "source": []
  }
 ],
 "metadata": {
  "kernelspec": {
   "display_name": "Python 3",
   "language": "python",
   "name": "python3"
  },
  "language_info": {
   "codemirror_mode": {
    "name": "ipython",
    "version": 3
   },
   "file_extension": ".py",
   "mimetype": "text/x-python",
   "name": "python",
   "nbconvert_exporter": "python",
   "pygments_lexer": "ipython3",
   "version": "3.7.7"
  }
 },
 "nbformat": 4,
 "nbformat_minor": 4
}
